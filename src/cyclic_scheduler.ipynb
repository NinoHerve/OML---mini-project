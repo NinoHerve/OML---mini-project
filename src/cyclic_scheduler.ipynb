{
 "cells": [
  {
   "cell_type": "code",
   "execution_count": 11,
   "metadata": {},
   "outputs": [],
   "source": [
    "import torch\n",
    "from utils import retrieve_setup, retrieve_training_params, training_loop"
   ]
  },
  {
   "cell_type": "code",
   "execution_count": 20,
   "metadata": {},
   "outputs": [],
   "source": [
    "model_name = \"MobileNetV3Small\" \n",
    "dataset_name = \"FashionMNIST\"\n",
    "scheduler_name = \"FixLR\"\n",
    "\n",
    "model, dataset = retrieve_setup(model_name, dataset_name)\n",
    "optimizer, scheduler, loss_fn, n_epochs, batch_size = retrieve_training_params(model, dataset_name, scheduler_name)\n",
    "device = torch.device(\"cuda\" if torch.cuda.is_available() else \"cpu\")"
   ]
  },
  {
   "cell_type": "code",
   "execution_count": 21,
   "metadata": {},
   "outputs": [
    {
     "name": "stdout",
     "output_type": "stream",
     "text": [
      "30\n",
      "Epoch 1\n",
      "Epoch 2\n",
      "Epoch 3\n",
      "Epoch 4\n"
     ]
    }
   ],
   "source": [
    "training_loop(\n",
    "    model=model,\n",
    "    dataset=dataset,\n",
    "    optimizer=optimizer,\n",
    "    scheduler=scheduler,\n",
    "    loss_fn=loss_fn,\n",
    "    n_epochs=n_epochs,\n",
    "    batch_size=batch_size,\n",
    "    test_strategy=(\"epoch\", 2),\n",
    "    train_strategy=(\"epoch\", 100),\n",
    "    file_name=f\"/{dataset_name}_{scheduler_name}\",\n",
    "    device=device,\n",
    ")"
   ]
  },
  {
   "cell_type": "code",
   "execution_count": 6,
   "metadata": {},
   "outputs": [
    {
     "data": {
      "text/plain": [
       "torch.nn.modules.loss.CrossEntropyLoss"
      ]
     },
     "execution_count": 6,
     "metadata": {},
     "output_type": "execute_result"
    }
   ],
   "source": [
    "model_name = \"MobileNetV3Small\" \n",
    "dataset_name = \"FashionMNIST\"\n",
    "scheduler_name = \"LinearLR\"\n",
    "\n",
    "model, dataset = retrieve_setup(model_name, dataset_name)\n",
    "optimizer, scheduler, loss_fn, n_epochs, batch_size = retrieve_training_params(model, dataset_name, scheduler_name)\n",
    "device = torch.device(\"cuda\" if torch.cuda.is_available() else \"cpu\")"
   ]
  },
  {
   "cell_type": "code",
   "execution_count": null,
   "metadata": {},
   "outputs": [],
   "source": [
    "training_loop(\n",
    "    model=model,\n",
    "    dataset=dataset,\n",
    "    optimizer=optimizer,\n",
    "    scheduler=scheduler,\n",
    "    loss_fn=loss_fn,\n",
    "    n_epochs=n_epochs,\n",
    "    batch_size=batch_size,\n",
    "    test_strategy=(\"epoch\", 2),\n",
    "    train_strategy=(\"epoch\", 100),\n",
    "    file_name=f\"/{dataset_name}_{scheduler_name}\",\n",
    "    device=device,\n",
    ")"
   ]
  }
 ],
 "metadata": {
  "kernelspec": {
   "display_name": "oml",
   "language": "python",
   "name": "python3"
  },
  "language_info": {
   "codemirror_mode": {
    "name": "ipython",
    "version": 3
   },
   "file_extension": ".py",
   "mimetype": "text/x-python",
   "name": "python",
   "nbconvert_exporter": "python",
   "pygments_lexer": "ipython3",
   "version": "3.12.2"
  }
 },
 "nbformat": 4,
 "nbformat_minor": 2
}
