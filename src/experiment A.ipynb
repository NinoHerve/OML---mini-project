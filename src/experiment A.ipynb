{
 "cells": [
  {
   "cell_type": "code",
   "execution_count": 2,
   "metadata": {},
   "outputs": [],
   "source": [
    "# This cell makes sure modules are auto-loaded when you change external python files\n",
    "%load_ext autoreload\n",
    "%autoreload 2"
   ]
  },
  {
   "cell_type": "code",
   "execution_count": 3,
   "metadata": {},
   "outputs": [
    {
     "name": "stderr",
     "output_type": "stream",
     "text": [
      "/Users/juangarcia/anaconda3/envs/modern_nlp/lib/python3.10/site-packages/tqdm/auto.py:21: TqdmWarning: IProgress not found. Please update jupyter and ipywidgets. See https://ipywidgets.readthedocs.io/en/stable/user_install.html\n",
      "  from .autonotebook import tqdm as notebook_tqdm\n"
     ]
    }
   ],
   "source": [
    "import numpy as np\n",
    "import torch\n",
    "from torch import optim\n",
    "\n",
    "from transformers import (\n",
    "    TrainingArguments, \n",
    "    Trainer, \n",
    ")"
   ]
  },
  {
   "cell_type": "code",
   "execution_count": 4,
   "metadata": {},
   "outputs": [],
   "source": [
    "seed = 42\n",
    "torch.manual_seed(seed)\n",
    "np.random.seed(seed)"
   ]
  },
  {
   "cell_type": "code",
   "execution_count": 5,
   "metadata": {},
   "outputs": [
    {
     "name": "stdout",
     "output_type": "stream",
     "text": [
      "Please connect to a GPU to run this notebook.\n"
     ]
    }
   ],
   "source": [
    "if torch.cuda.is_available():\n",
    "  print(\"Good to go!\")\n",
    "else:\n",
    "  print(\"Please connect to a GPU to run this notebook.\")"
   ]
  },
  {
   "cell_type": "code",
   "execution_count": 6,
   "metadata": {},
   "outputs": [],
   "source": [
    "from sa import SATask\n",
    "from nli import MNLITask\n",
    "from ner import NERTask\n",
    "from qa import SQuADTask\n",
    "\n",
    "def retrieve_model(fine_tunning_task, model_name=\"roberta-base\"):\n",
    "    if fine_tunning_task == \"sa\":\n",
    "        task = SATask(model_name)\n",
    "    elif fine_tunning_task == \"nli\":\n",
    "        task = MNLITask(model_name)\n",
    "    elif fine_tunning_task == \"ner\":\n",
    "        task = NERTask(model_name)\n",
    "    elif fine_tunning_task == \"qa\":\n",
    "        task = SQuADTask(model_name)\n",
    "    else:\n",
    "        raise ValueError(\"Invalid task\")\n",
    "\n",
    "    return task"
   ]
  },
  {
   "cell_type": "code",
   "execution_count": 7,
   "metadata": {},
   "outputs": [
    {
     "name": "stderr",
     "output_type": "stream",
     "text": [
      "/Users/juangarcia/anaconda3/envs/modern_nlp/lib/python3.10/site-packages/datasets/load.py:1454: FutureWarning: The repository for conll2003 contains custom code which must be executed to correctly load the dataset. You can inspect the repository content at https://hf.co/datasets/conll2003\n",
      "You can avoid this message in future by passing the argument `trust_remote_code=True`.\n",
      "Passing `trust_remote_code=True` will be mandatory to load this dataset from the next major release of `datasets`.\n",
      "  warnings.warn(\n",
      "Downloading builder script: 100%|██████████| 9.57k/9.57k [00:00<00:00, 1.74MB/s]\n",
      "Downloading readme: 100%|██████████| 12.3k/12.3k [00:00<00:00, 10.7MB/s]\n",
      "Downloading data: 100%|██████████| 983k/983k [00:00<00:00, 5.12MB/s]\n",
      "Generating train split: 100%|██████████| 14041/14041 [00:02<00:00, 4865.26 examples/s]\n",
      "Generating validation split: 100%|██████████| 3250/3250 [00:00<00:00, 3478.80 examples/s]\n",
      "Generating test split: 100%|██████████| 3453/3453 [00:00<00:00, 4895.66 examples/s]\n",
      "Map: 100%|██████████| 14041/14041 [00:01<00:00, 7558.64 examples/s]\n",
      "Map: 100%|██████████| 3250/3250 [00:00<00:00, 6030.13 examples/s]\n",
      "Map: 100%|██████████| 3453/3453 [00:00<00:00, 8596.01 examples/s]\n",
      "Some weights of RobertaForTokenClassification were not initialized from the model checkpoint at roberta-base and are newly initialized: ['classifier.bias', 'classifier.weight']\n",
      "You should probably TRAIN this model on a down-stream task to be able to use it for predictions and inference.\n",
      "/Users/juangarcia/Dropbox/Course/Year 1/Semester 2/Optmization for ML/Project/OML---mini-project/src/ner.py:13: FutureWarning: load_metric is deprecated and will be removed in the next major version of datasets. Use 'evaluate.load' instead, from the new library 🤗 Evaluate: https://huggingface.co/docs/evaluate\n",
      "  self.metric = load_metric(\"seqeval\")\n",
      "/Users/juangarcia/anaconda3/envs/modern_nlp/lib/python3.10/site-packages/datasets/load.py:753: FutureWarning: The repository for seqeval contains custom code which must be executed to correctly load the metric. You can inspect the repository content at https://raw.githubusercontent.com/huggingface/datasets/2.17.1/metrics/seqeval/seqeval.py\n",
      "You can avoid this message in future by passing the argument `trust_remote_code=True`.\n",
      "Passing `trust_remote_code=True` will be mandatory to load this metric from the next major release of `datasets`.\n",
      "  warnings.warn(\n"
     ]
    }
   ],
   "source": [
    "model_name = \"roberta-base\"\n",
    "fine_tunning_task = \"ner\"\n",
    "task = retrieve_model(fine_tunning_task, model_name)"
   ]
  },
  {
   "cell_type": "code",
   "execution_count": 9,
   "metadata": {},
   "outputs": [],
   "source": [
    "training_args = TrainingArguments(\n",
    "    output_dir=\"{}-finetuned-{}\".format(model_name, fine_tunning_task),\n",
    "    learning_rate=2e-5,\n",
    "    num_train_epochs=5,\n",
    "    per_device_train_batch_size=2,\n",
    "    per_device_eval_batch_size=2,\n",
    "    # weight_decay=0.01,\n",
    "    evaluation_strategy = \"epoch\", # \"no\" to avoid evaluation\n",
    "    save_strategy = \"epoch\", # \"no\" to avoid saving\n",
    "    logging_steps=500,\n",
    "    report_to=\"tensorboard\",\n",
    "    logging_dir=\"./tensorboard/{}-finetuned-{}\".format(model_name, fine_tunning_task),\n",
    ")\n",
    "\n",
    "# Huggingface optimizers: https://huggingface.co/docs/transformers/v4.39.3/en/main_classes/optimizer_schedules#optimization\n",
    "# Huggingface Schedulers: https://huggingface.co/docs/transformers/v4.39.3/en/main_classes/optimizer_schedules#schedules\n",
    "# E.g.\n",
    "# from transformers import AdamW, get_linear_schedule_with_warmup\n",
    "# optimizer = AdamW(model.parameters(), lr=training_args.learning_rate)\n",
    "# num_warmup_steps = training_args.num_train_epochs * len(train_dataset) // training_args.per_device_train_batch_size  # Adjust warmup based on your training setup\n",
    "# scheduler = get_linear_schedule_with_warmup(optimizer, num_warmup_steps=num_warmup_steps, num_training_steps=training_args.num_train_epochs * len(train_dataset) // training_args.per_device_train_batch_size)\n",
    "\n",
    "\n",
    "# PyTorch optimizers: https://pytorch.org/docs/stable/optim.html#algorithms\n",
    "# PyTorch schedulers: https://pytorch.org/docs/stable/optim.html#how-to-adjust-learning-rate\n",
    "optimizer = optim.SGD(task.model.parameters(), lr=training_args.learning_rate)\n",
    "scheduler = optim.lr_scheduler.ExponentialLR(optimizer, gamma=0.9)\n",
    "\n",
    "\n",
    "trainer = Trainer(\n",
    "    task.model,\n",
    "    args=training_args,\n",
    "    optimizers=(optimizer, scheduler),\n",
    "    train_dataset=task.encoded_dataset[\"train\"],\n",
    "    eval_dataset=task.encoded_dataset[\"validation\"],\n",
    "    tokenizer=task.tokenizer,\n",
    "    data_collator=task.data_collator,\n",
    "    compute_metrics=task.compute_metrics\n",
    ")"
   ]
  },
  {
   "cell_type": "code",
   "execution_count": null,
   "metadata": {},
   "outputs": [],
   "source": [
    "trainer.train()\n",
    "# trainer.save_model(\"models/{}-finetuned-{}\".format(model_name, fine_tunning_task))"
   ]
  },
  {
   "cell_type": "code",
   "execution_count": null,
   "metadata": {},
   "outputs": [],
   "source": [
    "# eval_result = trainer.evaluate()"
   ]
  }
 ],
 "metadata": {
  "kernelspec": {
   "display_name": "modern_nlp",
   "language": "python",
   "name": "python3"
  },
  "language_info": {
   "codemirror_mode": {
    "name": "ipython",
    "version": 3
   },
   "file_extension": ".py",
   "mimetype": "text/x-python",
   "name": "python",
   "nbconvert_exporter": "python",
   "pygments_lexer": "ipython3",
   "version": "3.10.13"
  }
 },
 "nbformat": 4,
 "nbformat_minor": 2
}
