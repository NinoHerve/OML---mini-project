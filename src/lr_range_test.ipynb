{
 "cells": [
  {
   "cell_type": "code",
   "execution_count": 1,
   "metadata": {},
   "outputs": [
    {
     "name": "stderr",
     "output_type": "stream",
     "text": [
      "/Users/juangarcia/anaconda3/envs/ada/lib/python3.9/site-packages/torchvision/io/image.py:13: UserWarning: Failed to load image Python extension: 'dlopen(/Users/juangarcia/anaconda3/envs/ada/lib/python3.9/site-packages/torchvision/image.so, 6): Symbol not found: __ZN3c1017RegisterOperatorsD1Ev\n",
      "  Referenced from: /Users/juangarcia/anaconda3/envs/ada/lib/python3.9/site-packages/torchvision/image.so\n",
      "  Expected in: /Users/juangarcia/anaconda3/envs/ada/lib/python3.9/site-packages/torch/lib/libtorch_cpu.dylib\n",
      " in /Users/juangarcia/anaconda3/envs/ada/lib/python3.9/site-packages/torchvision/image.so'If you don't plan on using image functionality from `torchvision.io`, you can ignore this warning. Otherwise, there might be something wrong with your environment. Did you have `libjpeg` or `libpng` installed before building `torchvision` from source?\n",
      "  warn(\n",
      "/Users/juangarcia/anaconda3/envs/ada/lib/python3.9/site-packages/transformers/utils/generic.py:441: UserWarning: torch.utils._pytree._register_pytree_node is deprecated. Please use torch.utils._pytree.register_pytree_node instead.\n",
      "  _torch_pytree._register_pytree_node(\n"
     ]
    }
   ],
   "source": [
    "import torch \n",
    "import torch.optim.lr_scheduler as schedulers\n",
    "import matplotlib.pyplot as plt\n",
    "import numpy as np\n",
    "\n",
    "from utils import train_batch_step, retrieve_training_params, retrieve_setup"
   ]
  },
  {
   "cell_type": "code",
   "execution_count": 2,
   "metadata": {},
   "outputs": [
    {
     "name": "stdout",
     "output_type": "stream",
     "text": [
      "Files already downloaded and verified\n",
      "Files already downloaded and verified\n"
     ]
    }
   ],
   "source": [
    "model, dataset = retrieve_setup(\"MobileNetV3Small\", \"CIFAR10\")\n",
    "dataset_name = dataset[\"train\"].root.split(\"/\")[-1]"
   ]
  },
  {
   "cell_type": "code",
   "execution_count": 3,
   "metadata": {},
   "outputs": [],
   "source": [
    "optimizer, lr_schedulers, loss_fn, n_epochs, batch_size = retrieve_training_params(model, dataset_name)\n",
    "\n",
    "data_loader = torch.utils.data.DataLoader(dataset[\"train\"], batch_size, shuffle=True)\n",
    "\n",
    "#total_iters = len(data_loader) * n_epochs   # if updating at every iteration\n",
    "total_iters = int(len(data_loader) * n_epochs / 10) # if updating every 10 iteration\n",
    "scheduler = schedulers.LinearLR(optimizer, start_factor=0.1, end_factor=1, total_iters=total_iters)"
   ]
  },
  {
   "cell_type": "code",
   "execution_count": null,
   "metadata": {},
   "outputs": [],
   "source": [
    "\n",
    "\n",
    "# storage\n",
    "losses = []\n",
    "\n",
    "# training\n",
    "device = torch.device(\"cuda\" if torch.cuda.is_available() else \"cpu\")\n",
    "model.to(device)\n",
    "iter = 0\n",
    "for epoch in range(n_epochs):\n",
    "    for X_batch, y_batch in data_loader:\n",
    "        iter += 1\n",
    "        X_batch.to(device)\n",
    "\n",
    "        # train with batch\n",
    "        loss = train_batch_step(X_batch, y_batch, model, optimizer, loss_fn)\n",
    "        losses.append(loss)\n",
    "\n",
    "        # update scheduler\n",
    "        if iter % 10 == 0:\n",
    "          scheduler.step()\n",
    "\n",
    "losses = np.array(losses)"
   ]
  }
 ],
 "metadata": {
  "kernelspec": {
   "display_name": "ada",
   "language": "python",
   "name": "python3"
  },
  "language_info": {
   "codemirror_mode": {
    "name": "ipython",
    "version": 3
   },
   "file_extension": ".py",
   "mimetype": "text/x-python",
   "name": "python",
   "nbconvert_exporter": "python",
   "pygments_lexer": "ipython3",
   "version": "3.9.18"
  }
 },
 "nbformat": 4,
 "nbformat_minor": 2
}
