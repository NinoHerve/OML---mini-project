{
 "cells": [
  {
   "cell_type": "code",
   "execution_count": null,
   "metadata": {},
   "outputs": [],
   "source": [
    "# from google.colab import drive\n",
    "# drive.mount('/content/drive')"
   ]
  },
  {
   "cell_type": "code",
   "execution_count": null,
   "metadata": {},
   "outputs": [],
   "source": [
    "# cd /content/drive/MyDrive/OML---mini-project/src"
   ]
  },
  {
   "cell_type": "code",
   "execution_count": null,
   "metadata": {},
   "outputs": [],
   "source": [
    "# !pip install -r requirements.txt"
   ]
  },
  {
   "cell_type": "code",
   "execution_count": null,
   "metadata": {},
   "outputs": [],
   "source": [
    "# This cell makes sure modules are auto-loaded when you change external python files\n",
    "%load_ext autoreload\n",
    "%autoreload 2"
   ]
  },
  {
   "cell_type": "code",
   "execution_count": 4,
   "metadata": {},
   "outputs": [],
   "source": [
    "import torch\n",
    "import torch.optim.lr_scheduler as schedulers\n",
    "from utils import retrieve_setup, retrieve_training_params, training_loop"
   ]
  },
  {
   "cell_type": "code",
   "execution_count": 5,
   "metadata": {},
   "outputs": [],
   "source": [
    "model_name = \"MobileNetV3Small\" \n",
    "dataset_name = \"CIFAR10\"\n",
    "lr_max = 3e-4 # achived in step 2150\n",
    "lr_min = 5e-5 # achived in step 2150\n",
    "n_epochs = 8"
   ]
  },
  {
   "cell_type": "code",
   "execution_count": 7,
   "metadata": {},
   "outputs": [
    {
     "name": "stdout",
     "output_type": "stream",
     "text": [
      "Files already downloaded and verified\n",
      "Files already downloaded and verified\n"
     ]
    }
   ],
   "source": [
    "# retrieves\n",
    "model, dataset = retrieve_setup(model_name, dataset_name)\n",
    "optimizer, _, loss_fn, _, batch_size = retrieve_training_params(model, dataset_name, \"parameters.yml\")\n",
    "\n",
    "# change lr from default to lr_max\n",
    "for g in optimizer.param_groups:\n",
    "    g[\"lr\"] = lr_max\n",
    "\n",
    "# implement linear increasing scheduler\n",
    "total_iters = int(len(dataset[\"train\"])/batch_size*n_epochs)\n",
    "start_factor = lr_min/lr_max\n",
    "\n",
    "scheduler_name, scheduler = \"rangeLR_pretrained\", schedulers.LinearLR(\n",
    "    optimizer, \n",
    "    start_factor=start_factor,\n",
    "    end_factor=1,\n",
    "    total_iters=total_iters\n",
    ")"
   ]
  },
  {
   "cell_type": "code",
   "execution_count": 13,
   "metadata": {},
   "outputs": [],
   "source": [
    "# run training loop\n",
    "device = torch.device(\"cuda\" if torch.cuda.is_available() else \"cpu\")\n",
    "_, metrics = training_loop(\n",
    "    model=model,\n",
    "    dataset=dataset,\n",
    "    scheduler=scheduler,\n",
    "    optimizer=optimizer,\n",
    "    loss_fn=loss_fn,\n",
    "    n_epochs=n_epochs,\n",
    "    batch_size=batch_size,\n",
    "    train_strategy=(\"iter\", 25),\n",
    "    test_strategy=(\"iter\", 25),\n",
    "    scheduler_strategy=\"iter\",\n",
    "    file_name=f\"/{dataset_name}_{scheduler_name}\",\n",
    "    device=device,\n",
    ")"
   ]
  }
 ],
 "metadata": {
  "kernelspec": {
   "display_name": "ada",
   "language": "python",
   "name": "python3"
  },
  "language_info": {
   "codemirror_mode": {
    "name": "ipython",
    "version": 3
   },
   "file_extension": ".py",
   "mimetype": "text/x-python",
   "name": "python",
   "nbconvert_exporter": "python",
   "pygments_lexer": "ipython3",
   "version": "3.9.18"
  }
 },
 "nbformat": 4,
 "nbformat_minor": 2
}
