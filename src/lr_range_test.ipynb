{
 "cells": [
  {
   "cell_type": "code",
   "execution_count": 1,
   "metadata": {},
   "outputs": [
    {
     "name": "stderr",
     "output_type": "stream",
     "text": [
      "/home/admin/miniconda3/envs/oml/lib/python3.12/site-packages/tqdm/auto.py:21: TqdmWarning: IProgress not found. Please update jupyter and ipywidgets. See https://ipywidgets.readthedocs.io/en/stable/user_install.html\n",
      "  from .autonotebook import tqdm as notebook_tqdm\n"
     ]
    }
   ],
   "source": [
    "import torch.optim.lr_scheduler as schedulers\n",
    "from utils import retrieve_setup, retrieve_training_params, training_loop"
   ]
  },
  {
   "cell_type": "code",
   "execution_count": 11,
   "metadata": {},
   "outputs": [],
   "source": [
    "model_name = \"MobileNetV3Small\" \n",
    "dataset_name = \"CIFAR10\"\n",
    "lr_max = 0.0002\n",
    "lr_min = 0.000001\n",
    "n_epochs = 10"
   ]
  },
  {
   "cell_type": "code",
   "execution_count": 12,
   "metadata": {},
   "outputs": [
    {
     "name": "stdout",
     "output_type": "stream",
     "text": [
      "Files already downloaded and verified\n",
      "Files already downloaded and verified\n"
     ]
    }
   ],
   "source": [
    "# retrieves\n",
    "model, dataset = retrieve_setup(model_name, dataset_name)\n",
    "optimizer, _, loss_fn, _, batch_size = retrieve_training_params(model, dataset_name, \"parameters.yml\")\n",
    "\n",
    "# change lr from default to lr_max\n",
    "for g in optimizer.param_groups:\n",
    "    g[\"lr\"] = lr_max\n",
    "\n",
    "# implement linear increasing scheduler\n",
    "total_iters = int(len(dataset[\"train\"])/batch_size*n_epochs)\n",
    "start_factor = lr_min/lr_max\n",
    "\n",
    "scheduler = schedulers.LinearLR(\n",
    "    optimizer, \n",
    "    start_factor=start_factor,\n",
    "    end_factor=1,\n",
    "    total_iters=total_iters\n",
    ")\n",
    "scheduler = (\"rangeLR\", scheduler)"
   ]
  },
  {
   "cell_type": "code",
   "execution_count": 13,
   "metadata": {},
   "outputs": [],
   "source": [
    "# run training loop\n",
    "_, losses = training_loop(\n",
    "    model=model,\n",
    "    dataset=dataset,\n",
    "    scheduler=scheduler,\n",
    "    optimizer=optimizer,\n",
    "    loss_fn=loss_fn,\n",
    "    n_epochs=n_epochs,\n",
    "    batch_size=batch_size,\n",
    "    test_strategy=(\"iter\", 500),\n",
    "    scheduler_strategy=\"iter\",\n",
    "    tensorboard_path=f\"./tensorboard/{dataset_name}_{scheduler[0]}\",\n",
    "    device=\"cuda\",\n",
    ")"
   ]
  },
  {
   "cell_type": "code",
   "execution_count": null,
   "metadata": {},
   "outputs": [],
   "source": []
  }
 ],
 "metadata": {
  "kernelspec": {
   "display_name": "ada",
   "language": "python",
   "name": "python3"
  },
  "language_info": {
   "codemirror_mode": {
    "name": "ipython",
    "version": 3
   },
   "file_extension": ".py",
   "mimetype": "text/x-python",
   "name": "python",
   "nbconvert_exporter": "python",
   "pygments_lexer": "ipython3",
   "version": "3.12.2"
  }
 },
 "nbformat": 4,
 "nbformat_minor": 2
}
