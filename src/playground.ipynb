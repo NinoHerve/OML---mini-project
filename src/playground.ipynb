{
 "cells": [
  {
   "cell_type": "code",
   "execution_count": 1,
   "metadata": {},
   "outputs": [
    {
     "name": "stderr",
     "output_type": "stream",
     "text": [
      "/home/admin/miniconda3/envs/oml/lib/python3.12/site-packages/tqdm/auto.py:21: TqdmWarning: IProgress not found. Please update jupyter and ipywidgets. See https://ipywidgets.readthedocs.io/en/stable/user_install.html\n",
      "  from .autonotebook import tqdm as notebook_tqdm\n"
     ]
    }
   ],
   "source": [
    "import torch \n",
    "import torchvision\n",
    "import matplotlib.pyplot as plt\n",
    "import numpy as np\n",
    "\n",
    "from utils import make_from_file, retrieve_setup\n"
   ]
  },
  {
   "cell_type": "code",
   "execution_count": 2,
   "metadata": {},
   "outputs": [],
   "source": [
    "def train(X_batch, y_batch, model, optimizer, loss_fn):\n",
    "    \"\"\"\n",
    "    Train one iteration.\n",
    "\n",
    "    Parameters:\n",
    "    ----------\n",
    "    X_batch: pytorch.Tensor\n",
    "        Batch of data.\n",
    "\n",
    "    y_batch: pytorch.Tensor\n",
    "        Labels of data.\n",
    "\n",
    "    model: pytorch.Model\n",
    "        Model.\n",
    "\n",
    "    optimizer: pytorch.Optimizer\n",
    "        Optimizer.\n",
    "\n",
    "    loss_fn: pytorch.Functional \n",
    "        Loss function. \n",
    "\n",
    "    Returns:\n",
    "    -------\n",
    "    loss: float\n",
    "        Loss.\n",
    "    \"\"\"\n",
    "    model.train()\n",
    "    y_pred = model(X_batch)\n",
    "    loss = loss_fn(y_pred, y_batch)\n",
    "    optimizer.zero_grad()\n",
    "    loss.backward()\n",
    "    optimizer.step()\n",
    "\n",
    "    return loss.item()\n",
    "\n",
    "def eval():\n",
    "    pass\n",
    "\n",
    "def update_log(dataset, model, strategy, iter, epoch):\n",
    "\n",
    "    if strategy[0] == \"iter\":\n",
    "        if iter % strategy[1] == 0:\n",
    "            pass\n",
    "            # compute metrics (e.g. metrics = eval(dataset, model))\n",
    "            # add metrics to the log\n",
    "        \n",
    "    if strategy[0] == \"epoch\":\n",
    "        # retrieve last epoch\n",
    "        last_epoch = ...\n",
    "        if epoch % strategy[1] == 0 and last_epoch != epoch:\n",
    "            pass \n",
    "            # compute metrics (e.g. metrics = eval(dataset, model))\n",
    "            # add metrics to the log\n",
    "\n",
    "\n",
    "def training_loop(model, dataset, scheduler, from_file=None, optimizer=None, loss_fn=None, \n",
    "          n_epochs=None, batch_size=None, train_strategy=(\"\", 1), test_strategy=(\"\", 1),\n",
    "          scheduler_strategy=\"iter\", device=None):\n",
    "    \"\"\"\n",
    "    Train model over multiple epochs.\n",
    "\n",
    "    Parameters:\n",
    "    ----------\n",
    "    model: pytorch.Model\n",
    "        Model.\n",
    "    \n",
    "    dataset: dict\n",
    "        Dataset:\n",
    "            \"train\": pytorch.Dataset\n",
    "                Training data.\n",
    "            \"test\": pytorch.Dataset\n",
    "                Test data.\n",
    "\n",
    "    scheduler: pytorch.Scheduler\n",
    "        Scheduler.\n",
    "\n",
    "    from_file: path-like\n",
    "        Path to parameter file (.yml). If a function parameter is None,\n",
    "        then it will be set to the default value given by the file.\n",
    "\n",
    "    optimizer: pytorch.Optimizer\n",
    "        Optimizer.\n",
    "\n",
    "    loss_fn: pytorch.Functional\n",
    "        Loss function.\n",
    "\n",
    "    n_epochs: int\n",
    "        Number of epochs.\n",
    "\n",
    "    batch_size: int\n",
    "        Number of samples per batch.\n",
    "\n",
    "    train_strategy: tuple(str, int)\n",
    "        Strategy to evaluate training data. The first elment should be \n",
    "        a string ('iter' or 'epoch') indicating wether the evaluation \n",
    "        should be done per iteration or per epoch. The second element\n",
    "        should be an integer indicating how many iteration or epochs \n",
    "        to wait between each evaluation.\n",
    "\n",
    "    test_strategy: tuple(str, int)\n",
    "        Strategy to evaluate test data. See train_strategy.\n",
    "\n",
    "    scheduler_strategy: str\n",
    "        Scheduler strategy, either 'iter' or 'epoch. Indicates if the \n",
    "        scheduler should be updated each epoch or each iteration.\n",
    "\n",
    "    device: str\n",
    "        Device ('cpu' or 'gpu') on which to run the model.\n",
    "    \"\"\"\n",
    "\n",
    "    if device == \"gpu\":\n",
    "        assert torch.cuda.is_available(), \"No GPU access :(\"\n",
    "\n",
    "    # default options\n",
    "    if from_file is not None:\n",
    "        dataset_name = dataset[\"train\"].root.split(\"/\")[-1]\n",
    "        o, l, e, b = make_from_file(from_file, model, dataset_name)\n",
    "\n",
    "    if optimizer is None:\n",
    "        optimizer = o \n",
    "    if loss_fn is None:\n",
    "        loss_fn = l \n",
    "    if n_epochs is None:\n",
    "        n_epochs = e \n",
    "    if batch_size is None:\n",
    "        batch_size = b\n",
    "\n",
    "    # data loader\n",
    "    data_loader = torch.utils.data.DataLoader(dataset[\"train\"], batch_size, shuffle=True)\n",
    "\n",
    "    # storage\n",
    "    losses = []\n",
    "\n",
    "    # training\n",
    "    model.to(device)\n",
    "    iter = 0\n",
    "    for epoch in range(n_epochs):\n",
    "        for X_batch, y_batch in data_loader:\n",
    "            iter += 1\n",
    "            X_batch.to(device)\n",
    "\n",
    "            # train with batch\n",
    "            loss = train(X_batch, y_batch, model, optimizer, loss_fn)\n",
    "            losses.append(loss)\n",
    "\n",
    "            # update Tensorboard\n",
    "            # update_log(dataset[\"train\"], model, training_strategy, iter, epoch)\n",
    "            # update_log(data[\"test\"], model, eval_strategy, iter, epoch)\n",
    "\n",
    "\n",
    "            \n",
    "\n",
    "    losses = np.array(losses)\n",
    "    return model, losses"
   ]
  },
  {
   "cell_type": "code",
   "execution_count": 3,
   "metadata": {},
   "outputs": [
    {
     "name": "stdout",
     "output_type": "stream",
     "text": [
      "Files already downloaded and verified\n",
      "Files already downloaded and verified\n"
     ]
    }
   ],
   "source": [
    "model, dataset = retrieve_setup(\"MobileNetV3Small\", \"CIFAR10\")\n",
    "model_trained, losses = training_loop(model, dataset, \"bunny\", from_file=\"parameters.yml\")\n"
   ]
  },
  {
   "cell_type": "code",
   "execution_count": 16,
   "metadata": {},
   "outputs": [
    {
     "data": {
      "image/png": "[encoded data removed]",
      "text/plain": [
       "<Figure size 640x480 with 1 Axes>"
      ]
     },
     "metadata": {},
     "output_type": "display_data"
    }
   ],
   "source": [
    "import numpy as np \n",
    "\n",
    "plt.plot(losses)\n",
    "plt.show()"
   ]
  },
  {
   "cell_type": "code",
   "execution_count": 20,
   "metadata": {},
   "outputs": [
    {
     "ename": "ZeroDivisionError",
     "evalue": "integer modulo by zero",
     "output_type": "error",
     "traceback": [
      "\u001b[0;31m---------------------------------------------------------------------------\u001b[0m",
      "\u001b[0;31mZeroDivisionError\u001b[0m                         Traceback (most recent call last)",
      "Cell \u001b[0;32mIn[20], line 1\u001b[0m\n\u001b[0;32m----> 1\u001b[0m \u001b[38;5;241;43m2\u001b[39;49m\u001b[38;5;241;43m%\u001b[39;49m\u001b[38;5;241;43m0\u001b[39;49m\n",
      "\u001b[0;31mZeroDivisionError\u001b[0m: integer modulo by zero"
     ]
    }
   ],
   "source": []
  },
  {
   "cell_type": "code",
   "execution_count": null,
   "metadata": {},
   "outputs": [],
   "source": []
  }
 ],
 "metadata": {
  "kernelspec": {
   "display_name": "oml",
   "language": "python",
   "name": "python3"
  },
  "language_info": {
   "codemirror_mode": {
    "name": "ipython",
    "version": 3
   },
   "file_extension": ".py",
   "mimetype": "text/x-python",
   "name": "python",
   "nbconvert_exporter": "python",
   "pygments_lexer": "ipython3",
   "version": "3.12.2"
  }
 },
 "nbformat": 4,
 "nbformat_minor": 2
}
