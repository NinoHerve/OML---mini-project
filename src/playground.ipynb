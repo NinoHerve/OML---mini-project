{
 "cells": [
  {
   "cell_type": "code",
   "execution_count": 1,
   "metadata": {},
   "outputs": [
    {
     "name": "stderr",
     "output_type": "stream",
     "text": [
      "/home/admin/miniconda3/envs/oml/lib/python3.12/site-packages/tqdm/auto.py:21: TqdmWarning: IProgress not found. Please update jupyter and ipywidgets. See https://ipywidgets.readthedocs.io/en/stable/user_install.html\n",
      "  from .autonotebook import tqdm as notebook_tqdm\n"
     ]
    }
   ],
   "source": [
    "import torch \n",
    "import matplotlib.pyplot as plt\n",
    "import numpy as np\n",
    "\n",
    "from torch.utils.data import DataLoader\n",
    "from torch.utils.tensorboard import SummaryWriter\n",
    "from torchmetrics import Accuracy, Precision, Recall, F1Score\n",
    "from utils import retrieve_training_params, retrieve_setup"
   ]
  },
  {
   "cell_type": "code",
   "execution_count": 2,
   "metadata": {},
   "outputs": [],
   "source": [
    "def get_metrics(num_classes, device):\n",
    "    accuracy = Accuracy(task=\"multiclass\", num_classes=num_classes).to(device)\n",
    "    precision = Precision(task=\"multiclass\", num_classes=num_classes).to(device)\n",
    "    recall = Recall(task=\"multiclass\", num_classes=num_classes).to(device)\n",
    "    f1 = F1Score(task=\"multiclass\", num_classes=num_classes).to(device)\n",
    "    return {\n",
    "        \"accuracy\": accuracy,\n",
    "        \"precision\": precision,\n",
    "        \"recall\": recall,\n",
    "        \"f1\": f1\n",
    "    }\n",
    "\n",
    "def compute_metrics(metric_path, metrics, y_pred, y_true, tb_writer, n_iter):\n",
    "    scores = {}\n",
    "    for metric_name, metric in metrics.items():\n",
    "        score = metric(y_pred, y_true)\n",
    "        # print(f\"{metric_name}: {score}\")\n",
    "        tb_writer.add_scalar(f\"{metric_path}/{metric_name}\", score, n_iter)\n",
    "        scores[metric_name] = score\n",
    "    return scores\n",
    "    \n",
    "\n",
    "def training_loop(model, dataset, scheduler, optimizer, loss_fn, n_epochs=1, batch_size=32,\n",
    "                train_strategy=(\"\", 1), test_strategy=(\"\", 1), scheduler_strategy=\"iter\", \n",
    "                tensorboard_path=\"./tensorboard\", device=torch.device(\"cpu\")):\n",
    "\n",
    "    # data loader\n",
    "    train_loader = DataLoader(dataset[\"train\"], batch_size, shuffle=True) \n",
    "    eval_loader = DataLoader(dataset[\"test\"], batch_size, shuffle=True) \n",
    "\n",
    "    # scheduler\n",
    "    scheduler_name, scheduler = scheduler\n",
    "    \n",
    "    # tensorboard\n",
    "    tb_writer = SummaryWriter(tensorboard_path)\n",
    "    num_classes = len(dataset[\"train\"].classes)\n",
    "    metrics = get_metrics(num_classes, device)\n",
    "    metric_tr_path = f\"{train_loader.dataset.root.split('/')[-1]}/train\"\n",
    "    metric_te_path = f\"{eval_loader.dataset.root.split('/')[-1]}/test\"\n",
    "    train_log = train_strategy[1] if train_strategy[0] == \"iter\" else train_strategy[1] * len(train_loader) + (train_loader.batch_size-1)\n",
    "    eval_log = test_strategy[1] if test_strategy[0] == \"iter\" else test_strategy[1] * len(train_loader) + (train_loader.batch_size-1)\n",
    "\n",
    "    # storage\n",
    "    losses = []\n",
    "    lr_history = []\n",
    "    \n",
    "    # Training loop\n",
    "    model.to(device)\n",
    "    for epoch in range(n_epochs):\n",
    "        for tr_iter, (X_tr_batch, y_tr_batch) in enumerate(train_loader):\n",
    "            X_tr_batch, y_tr_batch = X_tr_batch.to(device), y_tr_batch.to(device)\n",
    "\n",
    "            model.train()\n",
    "            optimizer.zero_grad()\n",
    "            output = model(X_tr_batch)\n",
    "            loss = loss_fn(output, y_tr_batch)\n",
    "            loss.backward()\n",
    "            optimizer.step()\n",
    "            losses.append(loss.item()) \n",
    "\n",
    "            iter = epoch * len(train_loader) + tr_iter\n",
    "\n",
    "            tb_writer.add_scalar(f\"{metric_tr_path}/lr\", scheduler.get_last_lr()[0], iter)\n",
    "            \n",
    "            if iter % train_log == 0:\n",
    "                # print(\"train log metrics\")\n",
    "                tb_writer.add_scalar(f\"{metric_tr_path}/loss\", loss, iter)\n",
    "                _, y_pred = torch.max(output, 1)\n",
    "                compute_metrics(metric_tr_path, metrics, y_pred, y_tr_batch, tb_writer, iter)\n",
    "\n",
    "            \n",
    "            if iter % eval_log == 0:\n",
    "                # print(\"test log metrics\")\n",
    "                model.eval()\n",
    "                with torch.no_grad():\n",
    "                    all_outputs = []\n",
    "                    all_predictions = []\n",
    "                    all_targets = []\n",
    "                    for te_iter, (X_te_batch, y_te_batch) in enumerate(eval_loader):\n",
    "                        X_te_batch, y_te_batch = X_te_batch.to(device), y_te_batch.to(device)\n",
    "\n",
    "                        output = model(X_te_batch)\n",
    "                        _, y_pred = torch.max(output, 1)\n",
    "\n",
    "                        all_outputs.append(output)\n",
    "                        all_predictions.append(y_pred)\n",
    "                        all_targets.append(y_te_batch)\n",
    "                        break\n",
    "                    \n",
    "                    all_outputs = torch.cat(all_outputs, dim=0)\n",
    "                    all_predictions = torch.cat(all_predictions, dim=0)\n",
    "                    all_targets = torch.cat(all_targets, dim=0)\n",
    "\n",
    "                    loss = loss_fn(all_outputs, all_targets).item()\n",
    "                    tb_writer.add_scalar(f\"{metric_te_path}/loss\", loss, iter)\n",
    "                    compute_metrics(metric_te_path, metrics, all_predictions, all_targets, tb_writer, iter)\n",
    "\n",
    "                    #tb_writer.flush()\n",
    "                    #tb_writer.close()\n",
    "                    #return None, None\n",
    "\n",
    "            #update scheduler\n",
    "            #if scheduler_strategy == \"iter\":\n",
    "                # scheduler.step()\n",
    "\n",
    "        #if scheduler_strategy == \"epoch\":\n",
    "        # scheduler.step()\n",
    "\n",
    "    losses = np.array(losses)\n",
    "\n",
    "    tb_writer.flush()\n",
    "    tb_writer.close()\n",
    "    return model, losses"
   ]
  },
  {
   "cell_type": "code",
   "execution_count": 3,
   "metadata": {},
   "outputs": [
    {
     "name": "stdout",
     "output_type": "stream",
     "text": [
      "Files already downloaded and verified\n",
      "Files already downloaded and verified\n"
     ]
    }
   ],
   "source": [
    "# Download model and dataset\n",
    "model, dataset = retrieve_setup(\"MobileNetV3Small\", \"CIFAR10\")\n",
    "dataset_name = dataset[\"train\"].root.split(\"/\")[-1]\n",
    "\n",
    "# Load all training parameters\n",
    "optimizer, lr_schedulers, loss_fn, n_epochs, batch_size = retrieve_training_params(model, dataset_name)"
   ]
  },
  {
   "cell_type": "code",
   "execution_count": 4,
   "metadata": {},
   "outputs": [],
   "source": [
    "# Training\n",
    " \n",
    "device = torch.device(\"cuda\" if torch.cuda.is_available() else \"cpu\")\n",
    "model_trained, losses = training_loop(\n",
    "  model, \n",
    "  dataset, \n",
    "  lr_schedulers[0], \n",
    "  optimizer, \n",
    "  loss_fn, \n",
    "  n_epochs, \n",
    "  batch_size, \n",
    "  train_strategy=(\"iter\", 2),\n",
    "  test_strategy=(\"iter\", 2),\n",
    "  scheduler_strategy=\"iter\", \n",
    "  tensorboard_path=f\"./tensorboard/{dataset_name}_{lr_schedulers[0][0]}\",\n",
    "  device=device\n",
    ")"
   ]
  },
  {
   "cell_type": "code",
   "execution_count": 5,
   "metadata": {},
   "outputs": [
    {
     "data": {
      "image/png": "[encoded data removed]",
      "text/plain": [
       "<Figure size 640x480 with 1 Axes>"
      ]
     },
     "metadata": {},
     "output_type": "display_data"
    }
   ],
   "source": [
    "import numpy as np \n",
    "\n",
    "plt.plot(losses)\n",
    "plt.show()"
   ]
  },
  {
   "cell_type": "code",
   "execution_count": null,
   "metadata": {},
   "outputs": [],
   "source": []
  }
 ],
 "metadata": {
  "kernelspec": {
   "display_name": "oml",
   "language": "python",
   "name": "python3"
  },
  "language_info": {
   "codemirror_mode": {
    "name": "ipython",
    "version": 3
   },
   "file_extension": ".py",
   "mimetype": "text/x-python",
   "name": "python",
   "nbconvert_exporter": "python",
   "pygments_lexer": "ipython3",
   "version": "3.12.2"
  }
 },
 "nbformat": 4,
 "nbformat_minor": 2
}
