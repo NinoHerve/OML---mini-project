{
 "cells": [
  {
   "cell_type": "code",
   "execution_count": null,
   "metadata": {},
   "outputs": [],
   "source": [
    "# from google.colab import drive\n",
    "# drive.mount('/content/drive')"
   ]
  },
  {
   "cell_type": "code",
   "execution_count": null,
   "metadata": {},
   "outputs": [],
   "source": [
    "# cd /content/drive/MyDrive/OML---mini-project/src"
   ]
  },
  {
   "cell_type": "code",
   "execution_count": null,
   "metadata": {},
   "outputs": [],
   "source": [
    "# !pip install -r requirements.txt"
   ]
  },
  {
   "cell_type": "code",
   "execution_count": null,
   "metadata": {},
   "outputs": [],
   "source": [
    "# This cell makes sure modules are auto-loaded when you change external python files\n",
    "%load_ext autoreload\n",
    "%autoreload 2"
   ]
  },
  {
   "cell_type": "code",
   "execution_count": null,
   "metadata": {},
   "outputs": [],
   "source": [
    "import torch \n",
    "import matplotlib.pyplot as plt\n",
    "import numpy as np\n",
    "\n",
    "from utils import retrieve_setup, retrieve_training_params, training_loop"
   ]
  },
  {
   "cell_type": "code",
   "execution_count": null,
   "metadata": {},
   "outputs": [],
   "source": [
    "seed = 42\n",
    "torch.manual_seed(seed)\n",
    "np.random.seed(seed)"
   ]
  },
  {
   "cell_type": "code",
   "execution_count": null,
   "metadata": {},
   "outputs": [],
   "source": [
    "device = torch.device(\"cuda\" if torch.cuda.is_available() else \"cpu\")"
   ]
  },
  {
   "cell_type": "code",
   "execution_count": null,
   "metadata": {},
   "outputs": [],
   "source": [
    "# Experimentation Loop\n",
    "lr_schedulers = [\"FixLR\", \"LinearLR\", \"OneCycleLR\", \"CyclicLR\", \"CyclicLR2\"]\n",
    "for scheduler_name in lr_schedulers:\n",
    "  # Download new model and dataset\n",
    "  model, dataset = retrieve_setup(\"MobileNetV3Small\", \"FashionMNIST\")\n",
    "  dataset_name = dataset[\"train\"].root.split(\"/\")[-1]\n",
    "\n",
    "  # Load all training parameters for new model\n",
    "  optimizer, scheduler, loss_fn, n_epochs, batch_size = retrieve_training_params(model, dataset_name, scheduler_name)\n",
    "  \n",
    "  print(f\"Training {model.__class__.__name__} with {scheduler_name} scheduler\")\n",
    "  model_trained, metrics = training_loop(\n",
    "    model,\n",
    "    dataset,\n",
    "    scheduler,\n",
    "    optimizer,\n",
    "    loss_fn,\n",
    "    n_epochs,\n",
    "    batch_size,\n",
    "    train_strategy=(\"iter\", 50),\n",
    "    test_strategy=(\"iter\", 50),\n",
    "    scheduler_strategy=\"iter\",\n",
    "    file_name=f\"/{dataset_name}_{scheduler_name}\",\n",
    "    device=device\n",
    "  )"
   ]
  }
 ],
 "metadata": {
  "kernelspec": {
   "display_name": "oml",
   "language": "python",
   "name": "python3"
  },
  "language_info": {
   "codemirror_mode": {
    "name": "ipython",
    "version": 3
   },
   "file_extension": ".py",
   "mimetype": "text/x-python",
   "name": "python",
   "nbconvert_exporter": "python",
   "pygments_lexer": "ipython3",
   "version": "3.9.18"
  }
 },
 "nbformat": 4,
 "nbformat_minor": 2
}
