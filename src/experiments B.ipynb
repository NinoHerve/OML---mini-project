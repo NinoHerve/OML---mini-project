{
 "cells": [
  {
   "cell_type": "code",
   "execution_count": 1,
   "metadata": {},
   "outputs": [],
   "source": [
    "# This cell makes sure modules are auto-loaded when you change external python files\n",
    "%load_ext autoreload\n",
    "%autoreload 2"
   ]
  },
  {
   "cell_type": "code",
   "execution_count": null,
   "metadata": {},
   "outputs": [],
   "source": [
    "# If you are working in Colab, then consider mounting your assignment folder to your drive\n",
    "from google.colab import drive\n",
    "drive.mount('/content/drive')\n",
    "\n",
    "# Direct to your assignment folder.\n",
    "%cd /content/drive/MyDrive/OML---mini-project/src"
   ]
  },
  {
   "cell_type": "code",
   "execution_count": 6,
   "metadata": {},
   "outputs": [],
   "source": [
    "import numpy as np\n",
    "import torch\n",
    "from torch import optim\n",
    "\n",
    "from transformers import (\n",
    "    TrainingArguments, \n",
    "    Trainer, \n",
    ")\n",
    "\n",
    "from itertools import product\n",
    "\n",
    "from sa import SATask\n",
    "from nli import MNLITask\n",
    "from ner import NERTask\n",
    "from qa import SQuADTask"
   ]
  },
  {
   "cell_type": "code",
   "execution_count": 3,
   "metadata": {},
   "outputs": [],
   "source": [
    "seed = 42\n",
    "torch.manual_seed(seed)\n",
    "np.random.seed(seed)"
   ]
  },
  {
   "cell_type": "code",
   "execution_count": 4,
   "metadata": {},
   "outputs": [
    {
     "name": "stdout",
     "output_type": "stream",
     "text": [
      "Please connect to a GPU to run this notebook.\n"
     ]
    }
   ],
   "source": [
    "if torch.cuda.is_available():\n",
    "  print(\"Good to go!\")\n",
    "else:\n",
    "  print(\"Please connect to a GPU to run this notebook.\")"
   ]
  },
  {
   "cell_type": "code",
   "execution_count": 12,
   "metadata": {},
   "outputs": [],
   "source": [
    "def retrieve_model(fine_tunning_task, model_name=\"roberta-base\"):\n",
    "    if fine_tunning_task == \"sa\":\n",
    "        task = SATask(model_name)\n",
    "    elif fine_tunning_task == \"nli\":\n",
    "        task = MNLITask(model_name)\n",
    "    elif fine_tunning_task == \"ner\":\n",
    "        task = NERTask(model_name)\n",
    "    elif fine_tunning_task == \"qa\":\n",
    "        task = SQuADTask(model_name)\n",
    "    else:\n",
    "        raise ValueError(\"Invalid task\")\n",
    "\n",
    "    return task"
   ]
  },
  {
   "cell_type": "code",
   "execution_count": 13,
   "metadata": {},
   "outputs": [],
   "source": [
    "def trainer(task, scheduler):\n",
    "  scheduler_name, scheduler_func = scheduler\n",
    "\n",
    "  training_args = TrainingArguments(\n",
    "    output_dir=\"{}-finetuned-{}-lr_scheduler-{}\".format(task.model_name, task.fine_tunning_task, scheduler_name),\n",
    "    learning_rate=2e-5,\n",
    "    num_train_epochs=1,\n",
    "    per_device_train_batch_size=32,\n",
    "    per_device_eval_batch_size=32,\n",
    "    # weight_decay=0.01,\n",
    "    evaluation_strategy=\"steps\", # \"no\" to avoid evaluation\n",
    "    eval_steps=250, \n",
    "    save_strategy=\"epoch\", # \"no\" to avoid saving\n",
    "    logging_strategy=\"steps\",\n",
    "    logging_steps=100,\n",
    "    report_to=\"tensorboard\",\n",
    "    logging_dir=\"./tensorboard/{}-finetuned-{}-lr_scheduler-{}\".format(task.model_name, task.fine_tunning_task, scheduler_name),\n",
    "  )\n",
    "    \n",
    "  optimizer = optim.SGD(task.model.parameters(), lr=training_args.learning_rate)\n",
    "  optimizer = optim.AdamW(task.model.parameters(), lr=training_args.learning_rate)\n",
    "  scheduler = scheduler_func(optimizer)\n",
    "\n",
    "  return Trainer(\n",
    "      task.model,\n",
    "      args=training_args,\n",
    "      optimizers=(optimizer, scheduler),\n",
    "      train_dataset=task.encoded_dataset[\"train\"],\n",
    "      eval_dataset=task.encoded_dataset[\"validation\"],\n",
    "      tokenizer=task.tokenizer,\n",
    "      data_collator=task.data_collator,\n",
    "      compute_metrics=task.compute_metrics\n",
    "  )"
   ]
  },
  {
   "cell_type": "code",
   "execution_count": 10,
   "metadata": {},
   "outputs": [],
   "source": [
    "model_name = \"roberta-base\"\n",
    "fine_tunning_tasks = [\"sa\", \"nli\", \"ner\", \"qa\"]\n",
    "learning_rate_schedulers = [\n",
    "  (\"ExponentialLR\", lambda optimizer: optim.lr_scheduler.ExponentialLR(optimizer, gamma=0.95)),\n",
    "]\n",
    "\n",
    "# All possible combinations of tasks and schedulers\n",
    "tasks_and_schedulers = list(product(fine_tunning_tasks, learning_rate_schedulers))\n",
    "\n",
    "for fine_tunning_task, scheduler in tasks_and_schedulers:\n",
    "  task = retrieve_model(fine_tunning_task, model_name)\n",
    "  train = trainer(task, scheduler)\n",
    "  train.train()\n",
    "  # train.save_model(\"models/{}-finetuned-{}-lr_scheduler-{}\".format(task.model_name, task.fine_tunning_task, scheduler_name))\n",
    "  "
   ]
  }
 ],
 "metadata": {
  "kernelspec": {
   "display_name": "modern_nlp",
   "language": "python",
   "name": "python3"
  },
  "language_info": {
   "codemirror_mode": {
    "name": "ipython",
    "version": 3
   },
   "file_extension": ".py",
   "mimetype": "text/x-python",
   "name": "python",
   "nbconvert_exporter": "python",
   "pygments_lexer": "ipython3",
   "version": "3.10.13"
  }
 },
 "nbformat": 4,
 "nbformat_minor": 2
}
