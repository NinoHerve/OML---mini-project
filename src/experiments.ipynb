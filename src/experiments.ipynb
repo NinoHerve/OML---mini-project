{
 "cells": [
  {
   "cell_type": "code",
   "execution_count": null,
   "metadata": {},
   "outputs": [],
   "source": [
    "# This cell makes sure modules are auto-loaded when you change external python files\n",
    "%load_ext autoreload\n",
    "%autoreload 2"
   ]
  },
  {
   "cell_type": "code",
   "execution_count": null,
   "metadata": {},
   "outputs": [],
   "source": [
    "import torch\n",
    "from torch import optim\n",
    "\n",
    "from datasets import load_metric\n",
    "\n",
    "from preprocessing import (\n",
    "    get_sst2_dataset, \n",
    "    get_nli_dataset, \n",
    "    get_ner_dataset, \n",
    "    get_squad_dataset\n",
    ")\n",
    "\n",
    "from transformers import (\n",
    "    AutoModelForQuestionAnswering, \n",
    "    AutoModelForSequenceClassification, \n",
    "    AutoModelForTokenClassification, \n",
    "    AutoTokenizer, \n",
    "    TrainingArguments, \n",
    "    Trainer, \n",
    "    DataCollatorForTokenClassification, \n",
    "    DataCollatorWithPadding,\n",
    "    default_data_collator\n",
    ")"
   ]
  },
  {
   "cell_type": "code",
   "execution_count": null,
   "metadata": {},
   "outputs": [],
   "source": [
    "seed = 42\n",
    "torch.manual_seed(seed)"
   ]
  },
  {
   "cell_type": "code",
   "execution_count": null,
   "metadata": {},
   "outputs": [],
   "source": [
    "if torch.cuda.is_available():\n",
    "  print(\"Good to go!\")\n",
    "else:\n",
    "  print(\"Please connect to a GPU to run this notebook.\")"
   ]
  },
  {
   "cell_type": "code",
   "execution_count": null,
   "metadata": {},
   "outputs": [],
   "source": [
    "def retrieve_model(fine_tunning_task, model_name=\"roberta-base\"):\n",
    "    if fine_tunning_task == \"sa\":\n",
    "        tokenizer = AutoTokenizer.from_pretrained(model_name, use_fast=True)\n",
    "        data_collator = DataCollatorWithPadding(tokenizer)\n",
    "        dataset, encoded_dataset = get_sst2_dataset(tokenizer)\n",
    "        model = AutoModelForSequenceClassification.from_pretrained(model_name, num_labels=2)\n",
    "    elif fine_tunning_task == \"nli\":\n",
    "        tokenizer = AutoTokenizer.from_pretrained(model_name, use_fast=True)\n",
    "        data_collator = DataCollatorWithPadding(tokenizer)\n",
    "        dataset, encoded_dataset = get_nli_dataset(tokenizer)\n",
    "        model = AutoModelForSequenceClassification.from_pretrained(model_name, num_labels=3)\n",
    "    elif fine_tunning_task == \"ner\":\n",
    "        tokenizer = AutoTokenizer.from_pretrained(model_name, add_prefix_space=True)\n",
    "        data_collator = DataCollatorForTokenClassification(tokenizer)\n",
    "        dataset, encoded_dataset = get_ner_dataset(tokenizer)\n",
    "        label_list = dataset[\"train\"].features[\"ner_tags\"].feature.names\n",
    "        model = AutoModelForTokenClassification.from_pretrained(model_name, num_labels=len(label_list))\n",
    "    elif fine_tunning_task == \"qa\":\n",
    "        tokenizer = AutoTokenizer.from_pretrained(model_name, use_fast=True)\n",
    "        data_collator = default_data_collator\n",
    "        dataset, encoded_dataset = get_squad_dataset(tokenizer)\n",
    "        model = AutoModelForQuestionAnswering.from_pretrained(model_name)\n",
    "    else:\n",
    "        raise ValueError(\"Invalid task\")\n",
    "\n",
    "    return dataset, encoded_dataset, data_collator, tokenizer, model"
   ]
  },
  {
   "cell_type": "code",
   "execution_count": null,
   "metadata": {},
   "outputs": [],
   "source": [
    "# load_metric(\"glue\", \"sst2\")"
   ]
  },
  {
   "cell_type": "code",
   "execution_count": null,
   "metadata": {},
   "outputs": [],
   "source": [
    "model_name = \"roberta-base\"\n",
    "task = \"qa\"\n",
    "dataset, encoded_dataset, data_collator, tokenizer, model = retrieve_model(task, model_name)"
   ]
  },
  {
   "cell_type": "code",
   "execution_count": null,
   "metadata": {},
   "outputs": [],
   "source": [
    "training_args = TrainingArguments(\n",
    "    output_dir=\"{}-finetuned-{}\".format(model_name, task),\n",
    "    learning_rate=2e-5,\n",
    "    num_train_epochs=5,\n",
    "    per_device_train_batch_size=2,\n",
    "    per_device_eval_batch_size=2,\n",
    "    # weight_decay=0.01,\n",
    "    evaluation_strategy = \"epoch\", # \"no\" to avoid evaluation\n",
    "    save_strategy = \"epoch\", # \"no\" to avoid saving\n",
    "    logging_steps=500,\n",
    "    report_to=\"tensorboard\",\n",
    "    logging_dir=\"./tensorboard/{}-finetuned-{}\".format(model_name, task),\n",
    ")\n",
    "\n",
    "# Huggingface optimizers: https://huggingface.co/docs/transformers/v4.39.3/en/main_classes/optimizer_schedules#optimization\n",
    "# Huggingface Schedulers: https://huggingface.co/docs/transformers/v4.39.3/en/main_classes/optimizer_schedules#schedules\n",
    "# E.g.\n",
    "# from transformers import AdamW, get_linear_schedule_with_warmup\n",
    "# optimizer = AdamW(model.parameters(), lr=training_args.learning_rate)\n",
    "# num_warmup_steps = training_args.num_train_epochs * len(train_dataset) // training_args.per_device_train_batch_size  # Adjust warmup based on your training setup\n",
    "# scheduler = get_linear_schedule_with_warmup(optimizer, num_warmup_steps=num_warmup_steps, num_training_steps=training_args.num_train_epochs * len(train_dataset) // training_args.per_device_train_batch_size)\n",
    "\n",
    "\n",
    "# PyTorch optimizers: https://pytorch.org/docs/stable/optim.html#algorithms\n",
    "# PyTorch schedulers: https://pytorch.org/docs/stable/optim.html#how-to-adjust-learning-rate\n",
    "optimizer = optim.SGD(model.parameters(), lr=training_args.learning_rate)\n",
    "scheduler = optim.lr_scheduler.ExponentialLR(optimizer, gamma=0.9)\n",
    "\n",
    "\n",
    "trainer = Trainer(\n",
    "    model,\n",
    "    args=training_args,\n",
    "    optimizers=(optimizer, scheduler),\n",
    "    train_dataset=encoded_dataset[\"train\"],\n",
    "    eval_dataset=encoded_dataset[\"validation\"],\n",
    "    tokenizer=tokenizer,\n",
    "    data_collator=data_collator,\n",
    "    # compute_metrics=compute_metrics\n",
    ")"
   ]
  },
  {
   "cell_type": "code",
   "execution_count": null,
   "metadata": {},
   "outputs": [],
   "source": [
    "trainer.train()\n",
    "# trainer.save_model(\"models/{}-finetuned-{}\".format(model_name, task))"
   ]
  },
  {
   "cell_type": "code",
   "execution_count": null,
   "metadata": {},
   "outputs": [],
   "source": [
    "# eval_result = trainer.evaluate()"
   ]
  }
 ],
 "metadata": {
  "kernelspec": {
   "display_name": "modern_nlp",
   "language": "python",
   "name": "python3"
  },
  "language_info": {
   "codemirror_mode": {
    "name": "ipython",
    "version": 3
   },
   "file_extension": ".py",
   "mimetype": "text/x-python",
   "name": "python",
   "nbconvert_exporter": "python",
   "pygments_lexer": "ipython3",
   "version": "3.10.13"
  }
 },
 "nbformat": 4,
 "nbformat_minor": 2
}
