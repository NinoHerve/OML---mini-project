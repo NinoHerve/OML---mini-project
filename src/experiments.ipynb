{
 "cells": [
  {
   "cell_type": "code",
   "execution_count": null,
   "metadata": {},
   "outputs": [],
   "source": [
    "import torch\n",
    "\n",
    "from datasets import load_dataset, load_metric\n",
    "from torch import optim\n",
    "from transformers import AutoModelForQuestionAnswering, AutoModelForSequenceClassification, AutoTokenizer, TrainingArguments, Trainer"
   ]
  },
  {
   "cell_type": "code",
   "execution_count": null,
   "metadata": {},
   "outputs": [],
   "source": [
    "seed = 42\n",
    "torch.manual_seed(seed)"
   ]
  },
  {
   "cell_type": "code",
   "execution_count": null,
   "metadata": {},
   "outputs": [],
   "source": [
    "if torch.cuda.is_available():\n",
    "  print(\"Good to go!\")\n",
    "else:\n",
    "  print(\"Please set GPU\")"
   ]
  },
  {
   "cell_type": "code",
   "execution_count": 65,
   "metadata": {},
   "outputs": [],
   "source": [
    "def prepare_mnli_dataset(dataset):\n",
    "    dataset[\"validation\"], dataset[\"test\"] = dataset.pop(\"validation_matched\"), dataset.pop(\"test_matched\")\n",
    "    dataset.pop(\"validation_unmatched\")\n",
    "    dataset.pop(\"test_unmatched\")\n",
    "    return dataset\n",
    "\n",
    "def retrieve_model(fine_tunning_task, model_name=\"roberta-base\"):\n",
    "    if fine_tunning_task == \"sa\":\n",
    "        dataset = load_dataset(\"glue\", \"sst2\")\n",
    "        tokenizer = AutoTokenizer.from_pretrained(model_name, use_fast=True)\n",
    "        model = AutoModelForSequenceClassification.from_pretrained(model_name, num_labels=2)\n",
    "    elif fine_tunning_task == \"mnli\":\n",
    "        dataset = load_dataset(\"glue\", \"mnli\")\n",
    "        dataset = prepare_mnli_dataset(dataset)\n",
    "        tokenizer = AutoTokenizer.from_pretrained(model_name, use_fast=True)\n",
    "        model = AutoModelForSequenceClassification.from_pretrained(model_name, num_labels=3)\n",
    "    elif fine_tunning_task == \"ner\":\n",
    "        dataset = None\n",
    "        tokenizer = None\n",
    "        model = None\n",
    "    elif fine_tunning_task == \"qa\":\n",
    "        dataset = load_dataset(\"squad_v2\")\n",
    "        tokenizer = AutoTokenizer.from_pretrained(model_name, use_fast=True)\n",
    "        model = AutoModelForQuestionAnswering.from_pretrained(model_name, num_labels=2)\n",
    "    else:\n",
    "        raise ValueError(\"Invalid task\")\n",
    "\n",
    "    return dataset, tokenizer, model"
   ]
  },
  {
   "cell_type": "code",
   "execution_count": 66,
   "metadata": {},
   "outputs": [
    {
     "name": "stderr",
     "output_type": "stream",
     "text": [
      "Some weights of RobertaForQuestionAnswering were not initialized from the model checkpoint at roberta-base and are newly initialized: ['qa_outputs.bias', 'qa_outputs.weight']\n",
      "You should probably TRAIN this model on a down-stream task to be able to use it for predictions and inference.\n"
     ]
    }
   ],
   "source": [
    "model_name = \"roberta-base\"\n",
    "task = \"qa\"\n",
    "dataset, tokenizer, model = retrieve_model(task, model_name)"
   ]
  },
  {
   "cell_type": "code",
   "execution_count": null,
   "metadata": {},
   "outputs": [],
   "source": [
    "def preprocessing(examples):\n",
    "    task_to_keys = {\n",
    "        \"sa\": (\"sentence\", None),\n",
    "        \"mnli\": (\"premise\", \"hypothesis\"),\n",
    "        \"ner\": (None, None),\n",
    "        \"qa\": (None, None),\n",
    "    }\n",
    "    sentence1_key, sentence2_key = task_to_keys[task]\n",
    "\n",
    "    if sentence2_key is None:\n",
    "        return tokenizer(examples[sentence1_key], truncation=True)\n",
    "    return tokenizer(examples[sentence1_key], examples[sentence2_key], truncation=True)\n",
    "\n",
    "encoded_dataset = dataset.map(preprocessing, batched=True)"
   ]
  },
  {
   "cell_type": "code",
   "execution_count": null,
   "metadata": {},
   "outputs": [],
   "source": [
    "training_args = TrainingArguments(\n",
    "    output_dir=\"{}-finetuned-{}\".format(model_name, task),\n",
    "    learning_rate=2e-5,\n",
    "    num_train_epochs=5,\n",
    "    per_device_train_batch_size=32,\n",
    "    per_device_eval_batch_size=32,\n",
    "    weight_decay=0.01,\n",
    "    evaluation_strategy = \"epoch\", # \"no\" to avoid evaluation\n",
    "    save_strategy = \"epoch\", # \"no\" to avoid saving\n",
    "    logging_steps=500,\n",
    "    report_to=\"tensorboard\",\n",
    "    logging_dir=\"./tensorboard/{}-finetuned-{}\".format(model_name, task),\n",
    ")\n",
    "\n",
    "# Huggingface optimizers: https://huggingface.co/docs/transformers/v4.39.3/en/main_classes/optimizer_schedules#optimization\n",
    "# Huggingface Schedulers: https://huggingface.co/docs/transformers/v4.39.3/en/main_classes/optimizer_schedules#schedules\n",
    "# E.g.\n",
    "# from transformers import AdamW, get_linear_schedule_with_warmup\n",
    "# optimizer = AdamW(model.parameters(), lr=training_args.learning_rate)\n",
    "# num_warmup_steps = training_args.num_train_epochs * len(train_dataset) // training_args.per_device_train_batch_size  # Adjust warmup based on your training setup\n",
    "# scheduler = get_linear_schedule_with_warmup(optimizer, num_warmup_steps=num_warmup_steps, num_training_steps=training_args.num_train_epochs * len(train_dataset) // training_args.per_device_train_batch_size)\n",
    "\n",
    "\n",
    "# PyTorch optimizers: https://pytorch.org/docs/stable/optim.html#algorithms\n",
    "# PyTorch schedulers: https://pytorch.org/docs/stable/optim.html#how-to-adjust-learning-rate\n",
    "optimizer = optim.SGD(model.parameters(), lr=training_args.learning_rate)\n",
    "scheduler = optim.lr_scheduler.ExponentialLR(optimizer, gamma=0.9)\n",
    "\n",
    "\n",
    "trainer = Trainer(\n",
    "    model,\n",
    "    args=training_args,\n",
    "    optimizers=(optimizer, scheduler), # Tuple[torch.optim.Optimizer, torch.optim.lr_scheduler.LambdaLR]\n",
    "    train_dataset=encoded_dataset[\"train\"],\n",
    "    eval_dataset=encoded_dataset[\"validation\"],\n",
    "    tokenizer=tokenizer,\n",
    "    # compute_metrics=compute_metrics\n",
    ")"
   ]
  },
  {
   "cell_type": "code",
   "execution_count": null,
   "metadata": {},
   "outputs": [],
   "source": [
    "trainer.train()\n",
    "# trainer.save_model(\"models/{}-finetuned-{}\".format(model_name, task))"
   ]
  },
  {
   "cell_type": "code",
   "execution_count": null,
   "metadata": {},
   "outputs": [],
   "source": [
    "eval_result = trainer.evaluate()"
   ]
  },
  {
   "cell_type": "markdown",
   "metadata": {},
   "source": [
    "## Single Sentence Classification (Sentiment Analysis)"
   ]
  },
  {
   "cell_type": "markdown",
   "metadata": {},
   "source": [
    "## Sentence Pair Classification Task (Natural Language Inference, aka textual entailment)"
   ]
  },
  {
   "cell_type": "markdown",
   "metadata": {},
   "source": [
    "## Single Sentence Tagging Task (Name Entity Recognition)"
   ]
  },
  {
   "cell_type": "markdown",
   "metadata": {},
   "source": [
    "## Question Answering Task"
   ]
  }
 ],
 "metadata": {
  "kernelspec": {
   "display_name": "modern_nlp",
   "language": "python",
   "name": "python3"
  },
  "language_info": {
   "codemirror_mode": {
    "name": "ipython",
    "version": 3
   },
   "file_extension": ".py",
   "mimetype": "text/x-python",
   "name": "python",
   "nbconvert_exporter": "python",
   "pygments_lexer": "ipython3",
   "version": "3.10.13"
  }
 },
 "nbformat": 4,
 "nbformat_minor": 2
}
